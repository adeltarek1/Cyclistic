{
 "cells": [
  {
   "cell_type": "markdown",
   "id": "c0b5c32a",
   "metadata": {},
   "source": [
    "# Case Study Project: Cyclistic Bike Share\n",
    "<img src = \"bike.jpg\" style = \"width:200px;height:180px\" align = left>\n",
    "\n"
   ]
  },
  {
   "cell_type": "markdown",
   "id": "9d8ab51e",
   "metadata": {},
   "source": [
    "## Scenario :\n",
    "\n",
    "You are a junior data analyst working in the marketing analyst team at Cyclistic, a bike-share company in Chicago. The director of marketing believes the **company’s future success depends on maximizing the number of annual memberships**. Therefore, your team wants to understand how casual riders and annual members use Cyclistic bikes differently. From these insights, your team will design a new marketing strategy to convert casual riders into annual members. But first, Cyclistic executives must approve your recommendations, so they must be backed up with compelling data insights and professional data visualizations\n",
    "\n",
    "## Buisness Task :\n",
    "\n",
    "To analyze user behaviours on how annual members and casual riders use Cyclistic bikes differently to make recommendations on how to convert casual riders into annual members\n",
    "\n",
    "## Information about the dataset : \n",
    "\n",
    "* It is external data stored in [Cyclistic Trip Data](https://divvy-tripdata.s3.amazonaws.com/index.html)\n",
    "* First-party data\n",
    "\n",
    "## Data Analysis Steps to be Followed:\n",
    "* Ask\n",
    "* Prepare\n",
    "* Process\n",
    "* Analyze\n",
    "* Share\n",
    "* Act\n",
    "\n",
    "###  Ask:\n",
    "Three questions will guide the future marketing program:\n",
    "\n",
    "* How do annual members and casual riders use Cyclistic bikes differently?\n",
    "* Why would casual riders buy Cyclistic annual memberships?\n",
    "* How can Cyclistic use digital media to influence casual riders to become members?\n",
    "\n",
    "#### Key Tasks:\n",
    "\n",
    "The main objective is to build the best marketing strategies to turn casual bike riders into annual members by analyzing how the 'Casual' and 'Annual' customers use Cyclistic bike share differently\n",
    "\n",
    "#### Deliverable:\n",
    "\n",
    "Find the differences between casual and member riders\n",
    "\n",
    "###  Perpare:\n",
    "Analyzing and identifying trends by using the previous 12-months cyclistic historical trip data. \n"
   ]
  },
  {
   "cell_type": "markdown",
   "id": "e30ec1e0",
   "metadata": {},
   "source": [
    "### Importing Libraries"
   ]
  },
  {
   "cell_type": "code",
   "execution_count": 1,
   "id": "5dc3a7b9",
   "metadata": {},
   "outputs": [],
   "source": [
    "import pandas as pd\n",
    "import numpy as np\n",
    "import datetime "
   ]
  },
  {
   "cell_type": "markdown",
   "id": "97574062",
   "metadata": {},
   "source": [
    "### Data Collection \n",
    "I'm going to consolidate downloaded data into a single dataframe and then conduct simple analysis to help answer the key question: \"In what ways do members and casual riders use Divvy bikes differently?\""
   ]
  },
  {
   "cell_type": "code",
   "execution_count": 2,
   "id": "2e0f5505",
   "metadata": {},
   "outputs": [],
   "source": [
    "# importing the datasets\n",
    "df1 = pd.read_csv('202111-divvy-tripdata.csv')\n",
    "df2 = pd.read_csv('202112-divvy-tripdata.csv')\n",
    "df3 = pd.read_csv('202201-divvy-tripdata.csv')\n",
    "df4 = pd.read_csv('202202-divvy-tripdata.csv')\n",
    "df5 = pd.read_csv('202203-divvy-tripdata.csv')\n",
    "df6 = pd.read_csv('202204-divvy-tripdata.csv')\n",
    "df7 = pd.read_csv('202205-divvy-tripdata.csv')\n",
    "df8 = pd.read_csv('202206-divvy-tripdata.csv')\n",
    "df9 = pd.read_csv('202207-divvy-tripdata.csv')\n",
    "df10 = pd.read_csv('202208-divvy-tripdata.csv')\n",
    "df11 = pd.read_csv('202209-divvy-tripdata.csv')\n",
    "df12 = pd.read_csv('202210-divvy-tripdata.csv')"
   ]
  },
  {
   "cell_type": "code",
   "execution_count": 3,
   "id": "3f3ed1d7",
   "metadata": {},
   "outputs": [
    {
     "data": {
      "text/plain": [
       "(5755694, 13)"
      ]
     },
     "execution_count": 3,
     "metadata": {},
     "output_type": "execute_result"
    }
   ],
   "source": [
    "# merging all data\n",
    "Cyclistic_data = pd.concat([df1, df2, df3, df4, df5, df6, df7, df8, df9, df10, df11, df12])\n",
    "Cyclistic_data.shape"
   ]
  },
  {
   "cell_type": "code",
   "execution_count": 4,
   "id": "ea7184ee",
   "metadata": {},
   "outputs": [
    {
     "data": {
      "text/html": [
       "<div>\n",
       "<style scoped>\n",
       "    .dataframe tbody tr th:only-of-type {\n",
       "        vertical-align: middle;\n",
       "    }\n",
       "\n",
       "    .dataframe tbody tr th {\n",
       "        vertical-align: top;\n",
       "    }\n",
       "\n",
       "    .dataframe thead th {\n",
       "        text-align: right;\n",
       "    }\n",
       "</style>\n",
       "<table border=\"1\" class=\"dataframe\">\n",
       "  <thead>\n",
       "    <tr style=\"text-align: right;\">\n",
       "      <th></th>\n",
       "      <th>ride_id</th>\n",
       "      <th>rideable_type</th>\n",
       "      <th>started_at</th>\n",
       "      <th>ended_at</th>\n",
       "      <th>start_station_name</th>\n",
       "      <th>start_station_id</th>\n",
       "      <th>end_station_name</th>\n",
       "      <th>end_station_id</th>\n",
       "      <th>start_lat</th>\n",
       "      <th>start_lng</th>\n",
       "      <th>end_lat</th>\n",
       "      <th>end_lng</th>\n",
       "      <th>member_casual</th>\n",
       "    </tr>\n",
       "  </thead>\n",
       "  <tbody>\n",
       "    <tr>\n",
       "      <th>0</th>\n",
       "      <td>7C00A93E10556E47</td>\n",
       "      <td>electric_bike</td>\n",
       "      <td>2021-11-27 13:27:38</td>\n",
       "      <td>2021-11-27 13:46:38</td>\n",
       "      <td>NaN</td>\n",
       "      <td>NaN</td>\n",
       "      <td>NaN</td>\n",
       "      <td>NaN</td>\n",
       "      <td>41.93</td>\n",
       "      <td>-87.72</td>\n",
       "      <td>41.96</td>\n",
       "      <td>-87.73</td>\n",
       "      <td>casual</td>\n",
       "    </tr>\n",
       "    <tr>\n",
       "      <th>1</th>\n",
       "      <td>90854840DFD508BA</td>\n",
       "      <td>electric_bike</td>\n",
       "      <td>2021-11-27 13:38:25</td>\n",
       "      <td>2021-11-27 13:56:10</td>\n",
       "      <td>NaN</td>\n",
       "      <td>NaN</td>\n",
       "      <td>NaN</td>\n",
       "      <td>NaN</td>\n",
       "      <td>41.96</td>\n",
       "      <td>-87.70</td>\n",
       "      <td>41.92</td>\n",
       "      <td>-87.70</td>\n",
       "      <td>casual</td>\n",
       "    </tr>\n",
       "    <tr>\n",
       "      <th>2</th>\n",
       "      <td>0A7D10CDD144061C</td>\n",
       "      <td>electric_bike</td>\n",
       "      <td>2021-11-26 22:03:34</td>\n",
       "      <td>2021-11-26 22:05:56</td>\n",
       "      <td>NaN</td>\n",
       "      <td>NaN</td>\n",
       "      <td>NaN</td>\n",
       "      <td>NaN</td>\n",
       "      <td>41.96</td>\n",
       "      <td>-87.70</td>\n",
       "      <td>41.96</td>\n",
       "      <td>-87.70</td>\n",
       "      <td>casual</td>\n",
       "    </tr>\n",
       "    <tr>\n",
       "      <th>3</th>\n",
       "      <td>2F3BE33085BCFF02</td>\n",
       "      <td>electric_bike</td>\n",
       "      <td>2021-11-27 09:56:49</td>\n",
       "      <td>2021-11-27 10:01:50</td>\n",
       "      <td>NaN</td>\n",
       "      <td>NaN</td>\n",
       "      <td>NaN</td>\n",
       "      <td>NaN</td>\n",
       "      <td>41.94</td>\n",
       "      <td>-87.79</td>\n",
       "      <td>41.93</td>\n",
       "      <td>-87.79</td>\n",
       "      <td>casual</td>\n",
       "    </tr>\n",
       "    <tr>\n",
       "      <th>4</th>\n",
       "      <td>D67B4781A19928D4</td>\n",
       "      <td>electric_bike</td>\n",
       "      <td>2021-11-26 19:09:28</td>\n",
       "      <td>2021-11-26 19:30:41</td>\n",
       "      <td>NaN</td>\n",
       "      <td>NaN</td>\n",
       "      <td>NaN</td>\n",
       "      <td>NaN</td>\n",
       "      <td>41.90</td>\n",
       "      <td>-87.63</td>\n",
       "      <td>41.88</td>\n",
       "      <td>-87.62</td>\n",
       "      <td>casual</td>\n",
       "    </tr>\n",
       "  </tbody>\n",
       "</table>\n",
       "</div>"
      ],
      "text/plain": [
       "            ride_id  rideable_type           started_at             ended_at  \\\n",
       "0  7C00A93E10556E47  electric_bike  2021-11-27 13:27:38  2021-11-27 13:46:38   \n",
       "1  90854840DFD508BA  electric_bike  2021-11-27 13:38:25  2021-11-27 13:56:10   \n",
       "2  0A7D10CDD144061C  electric_bike  2021-11-26 22:03:34  2021-11-26 22:05:56   \n",
       "3  2F3BE33085BCFF02  electric_bike  2021-11-27 09:56:49  2021-11-27 10:01:50   \n",
       "4  D67B4781A19928D4  electric_bike  2021-11-26 19:09:28  2021-11-26 19:30:41   \n",
       "\n",
       "  start_station_name start_station_id end_station_name end_station_id  \\\n",
       "0                NaN              NaN              NaN            NaN   \n",
       "1                NaN              NaN              NaN            NaN   \n",
       "2                NaN              NaN              NaN            NaN   \n",
       "3                NaN              NaN              NaN            NaN   \n",
       "4                NaN              NaN              NaN            NaN   \n",
       "\n",
       "   start_lat  start_lng  end_lat  end_lng member_casual  \n",
       "0      41.93     -87.72    41.96   -87.73        casual  \n",
       "1      41.96     -87.70    41.92   -87.70        casual  \n",
       "2      41.96     -87.70    41.96   -87.70        casual  \n",
       "3      41.94     -87.79    41.93   -87.79        casual  \n",
       "4      41.90     -87.63    41.88   -87.62        casual  "
      ]
     },
     "execution_count": 4,
     "metadata": {},
     "output_type": "execute_result"
    }
   ],
   "source": [
    "Cyclistic_data.head()"
   ]
  },
  {
   "cell_type": "code",
   "execution_count": 5,
   "id": "9eddb911",
   "metadata": {},
   "outputs": [
    {
     "name": "stdout",
     "output_type": "stream",
     "text": [
      "<class 'pandas.core.frame.DataFrame'>\n",
      "Int64Index: 5755694 entries, 0 to 558684\n",
      "Data columns (total 13 columns):\n",
      " #   Column              Dtype  \n",
      "---  ------              -----  \n",
      " 0   ride_id             object \n",
      " 1   rideable_type       object \n",
      " 2   started_at          object \n",
      " 3   ended_at            object \n",
      " 4   start_station_name  object \n",
      " 5   start_station_id    object \n",
      " 6   end_station_name    object \n",
      " 7   end_station_id      object \n",
      " 8   start_lat           float64\n",
      " 9   start_lng           float64\n",
      " 10  end_lat             float64\n",
      " 11  end_lng             float64\n",
      " 12  member_casual       object \n",
      "dtypes: float64(4), object(9)\n",
      "memory usage: 614.8+ MB\n"
     ]
    }
   ],
   "source": [
    "Cyclistic_data.info()"
   ]
  },
  {
   "cell_type": "markdown",
   "id": "46d77edb",
   "metadata": {},
   "source": [
    "The dataset contains **5,755,694** records and **13** attributes with **9** object data types and **4** float data types. <br>\n",
    "The next step is to clean the data from any null values, remove unnecessary attributes and duplicate values.<br>\n",
    "This will ensure that the data will produce a high quality analysis."
   ]
  },
  {
   "cell_type": "markdown",
   "id": "535f72a9",
   "metadata": {},
   "source": [
    "## Process:"
   ]
  },
  {
   "cell_type": "markdown",
   "id": "42d084b9",
   "metadata": {},
   "source": [
    "### Data Cleaning\n"
   ]
  },
  {
   "cell_type": "code",
   "execution_count": 6,
   "id": "52c6164f",
   "metadata": {},
   "outputs": [],
   "source": [
    "# Creating a backup to revert to it if any issues occured\n",
    "Cyclistic_data.to_csv('Cyclistic_data.csv')"
   ]
  },
  {
   "cell_type": "code",
   "execution_count": 7,
   "id": "1b7fc039",
   "metadata": {},
   "outputs": [],
   "source": [
    "# change rideable_type to a categorical dtype from an object dtype\n",
    "Cyclistic_data['rideable_type']= Cyclistic_data.rideable_type.astype('category')"
   ]
  },
  {
   "cell_type": "code",
   "execution_count": 8,
   "id": "dd1bd750",
   "metadata": {},
   "outputs": [],
   "source": [
    "#change member_casual to a categorical dtype from an object dtype\n",
    "Cyclistic_data['member_casual']= Cyclistic_data.member_casual.astype('category')"
   ]
  },
  {
   "cell_type": "code",
   "execution_count": 9,
   "id": "8e802c1e",
   "metadata": {},
   "outputs": [],
   "source": [
    "# Remove unnecessary attributes\n",
    "Cyclistic_data.drop(['start_lat', 'start_lng', 'end_lat', 'end_lng'], axis=1, inplace=True) "
   ]
  },
  {
   "cell_type": "code",
   "execution_count": 23,
   "id": "8ea850b5",
   "metadata": {},
   "outputs": [
    {
     "data": {
      "text/plain": [
       "ride_id                    0\n",
       "rideable_type              0\n",
       "started_at                 0\n",
       "ended_at                   0\n",
       "start_station_name    878177\n",
       "start_station_id      878177\n",
       "end_station_name      940010\n",
       "end_station_id        940010\n",
       "member_casual              0\n",
       "ride_length                0\n",
       "start_date                 0\n",
       "day_name                   0\n",
       "year                       0\n",
       "month                      0\n",
       "dtype: int64"
      ]
     },
     "execution_count": 23,
     "metadata": {},
     "output_type": "execute_result"
    }
   ],
   "source": [
    "# Find Null Values\n",
    "Cyclistic_data.isnull().sum()"
   ]
  },
  {
   "cell_type": "code",
   "execution_count": 24,
   "id": "3fb0c2ae",
   "metadata": {},
   "outputs": [
    {
     "data": {
      "text/plain": [
       "0.1633182723056507"
      ]
     },
     "execution_count": 24,
     "metadata": {},
     "output_type": "execute_result"
    }
   ],
   "source": [
    "# finding the total percentage of null values in the dataset\n",
    "940010/5755694"
   ]
  },
  {
   "cell_type": "code",
   "execution_count": 25,
   "id": "054ef5b8",
   "metadata": {},
   "outputs": [],
   "source": [
    "#16% percent of the dataset has null values, and it is below the maximum percentage of 25%\n",
    "# so i dropped the columns\n",
    "Cyclistic_data.dropna(inplace= True)"
   ]
  },
  {
   "cell_type": "code",
   "execution_count": 26,
   "id": "738b5911",
   "metadata": {},
   "outputs": [],
   "source": [
    "# Saving the cleaned version of the dataset\n",
    "Cyclistic_data.to_csv('Cyclistic_data_cleaned.csv')"
   ]
  },
  {
   "cell_type": "code",
   "execution_count": 30,
   "id": "25c78d1b",
   "metadata": {},
   "outputs": [
    {
     "data": {
      "text/plain": [
       "False"
      ]
     },
     "execution_count": 30,
     "metadata": {},
     "output_type": "execute_result"
    }
   ],
   "source": [
    "# check for any duplicated values\n",
    "Cyclistic_data.duplicated().any()"
   ]
  },
  {
   "cell_type": "code",
   "execution_count": 31,
   "id": "033d5d46",
   "metadata": {},
   "outputs": [
    {
     "data": {
      "text/html": [
       "<div>\n",
       "<style scoped>\n",
       "    .dataframe tbody tr th:only-of-type {\n",
       "        vertical-align: middle;\n",
       "    }\n",
       "\n",
       "    .dataframe tbody tr th {\n",
       "        vertical-align: top;\n",
       "    }\n",
       "\n",
       "    .dataframe thead th {\n",
       "        text-align: right;\n",
       "    }\n",
       "</style>\n",
       "<table border=\"1\" class=\"dataframe\">\n",
       "  <thead>\n",
       "    <tr style=\"text-align: right;\">\n",
       "      <th></th>\n",
       "      <th>ride_id</th>\n",
       "      <th>rideable_type</th>\n",
       "      <th>started_at</th>\n",
       "      <th>ended_at</th>\n",
       "      <th>start_station_name</th>\n",
       "      <th>start_station_id</th>\n",
       "      <th>end_station_name</th>\n",
       "      <th>end_station_id</th>\n",
       "      <th>member_casual</th>\n",
       "      <th>ride_length</th>\n",
       "      <th>start_date</th>\n",
       "      <th>day_name</th>\n",
       "      <th>year</th>\n",
       "      <th>month</th>\n",
       "    </tr>\n",
       "  </thead>\n",
       "  <tbody>\n",
       "    <tr>\n",
       "      <th>66162</th>\n",
       "      <td>6BB9F79FB5BFFA0C</td>\n",
       "      <td>electric_bike</td>\n",
       "      <td>2021-11-01 00:00:14</td>\n",
       "      <td>2021-11-01 00:30:10</td>\n",
       "      <td>Green St &amp; Madison St</td>\n",
       "      <td>TA1307000120</td>\n",
       "      <td>Kosciuszko Park</td>\n",
       "      <td>15643</td>\n",
       "      <td>casual</td>\n",
       "      <td>0 days 00:29:56</td>\n",
       "      <td>2021-11-01</td>\n",
       "      <td>Monday</td>\n",
       "      <td>2021</td>\n",
       "      <td>11</td>\n",
       "    </tr>\n",
       "    <tr>\n",
       "      <th>81735</th>\n",
       "      <td>9B28379EC39C521C</td>\n",
       "      <td>electric_bike</td>\n",
       "      <td>2021-11-01 00:00:14</td>\n",
       "      <td>2021-11-01 00:04:06</td>\n",
       "      <td>Halsted St &amp; Roscoe St</td>\n",
       "      <td>TA1309000025</td>\n",
       "      <td>Clarendon Ave &amp; Gordon Ter</td>\n",
       "      <td>13379</td>\n",
       "      <td>casual</td>\n",
       "      <td>0 days 00:03:52</td>\n",
       "      <td>2021-11-01</td>\n",
       "      <td>Monday</td>\n",
       "      <td>2021</td>\n",
       "      <td>11</td>\n",
       "    </tr>\n",
       "    <tr>\n",
       "      <th>184197</th>\n",
       "      <td>7705C605D750A621</td>\n",
       "      <td>electric_bike</td>\n",
       "      <td>2021-11-01 00:01:36</td>\n",
       "      <td>2021-11-01 00:09:44</td>\n",
       "      <td>Michigan Ave &amp; Pearson St</td>\n",
       "      <td>13034</td>\n",
       "      <td>Canal St &amp; Monroe St</td>\n",
       "      <td>13056</td>\n",
       "      <td>casual</td>\n",
       "      <td>0 days 00:08:08</td>\n",
       "      <td>2021-11-01</td>\n",
       "      <td>Monday</td>\n",
       "      <td>2021</td>\n",
       "      <td>11</td>\n",
       "    </tr>\n",
       "    <tr>\n",
       "      <th>23352</th>\n",
       "      <td>D1785C29432887EE</td>\n",
       "      <td>classic_bike</td>\n",
       "      <td>2021-11-01 00:02:35</td>\n",
       "      <td>2021-11-01 00:16:38</td>\n",
       "      <td>State St &amp; 79th St</td>\n",
       "      <td>573</td>\n",
       "      <td>Halsted St &amp; 78th St</td>\n",
       "      <td>20233</td>\n",
       "      <td>member</td>\n",
       "      <td>0 days 00:14:03</td>\n",
       "      <td>2021-11-01</td>\n",
       "      <td>Monday</td>\n",
       "      <td>2021</td>\n",
       "      <td>11</td>\n",
       "    </tr>\n",
       "    <tr>\n",
       "      <th>142427</th>\n",
       "      <td>17247CF119C77514</td>\n",
       "      <td>classic_bike</td>\n",
       "      <td>2021-11-01 00:02:36</td>\n",
       "      <td>2021-11-01 00:11:17</td>\n",
       "      <td>Green St &amp; Randolph St</td>\n",
       "      <td>13053</td>\n",
       "      <td>Franklin St &amp; Illinois St</td>\n",
       "      <td>RN-</td>\n",
       "      <td>member</td>\n",
       "      <td>0 days 00:08:41</td>\n",
       "      <td>2021-11-01</td>\n",
       "      <td>Monday</td>\n",
       "      <td>2021</td>\n",
       "      <td>11</td>\n",
       "    </tr>\n",
       "  </tbody>\n",
       "</table>\n",
       "</div>"
      ],
      "text/plain": [
       "                 ride_id  rideable_type          started_at  \\\n",
       "66162   6BB9F79FB5BFFA0C  electric_bike 2021-11-01 00:00:14   \n",
       "81735   9B28379EC39C521C  electric_bike 2021-11-01 00:00:14   \n",
       "184197  7705C605D750A621  electric_bike 2021-11-01 00:01:36   \n",
       "23352   D1785C29432887EE   classic_bike 2021-11-01 00:02:35   \n",
       "142427  17247CF119C77514   classic_bike 2021-11-01 00:02:36   \n",
       "\n",
       "                  ended_at         start_station_name start_station_id  \\\n",
       "66162  2021-11-01 00:30:10      Green St & Madison St     TA1307000120   \n",
       "81735  2021-11-01 00:04:06     Halsted St & Roscoe St     TA1309000025   \n",
       "184197 2021-11-01 00:09:44  Michigan Ave & Pearson St            13034   \n",
       "23352  2021-11-01 00:16:38         State St & 79th St              573   \n",
       "142427 2021-11-01 00:11:17     Green St & Randolph St            13053   \n",
       "\n",
       "                  end_station_name end_station_id member_casual  \\\n",
       "66162              Kosciuszko Park          15643        casual   \n",
       "81735   Clarendon Ave & Gordon Ter          13379        casual   \n",
       "184197        Canal St & Monroe St          13056        casual   \n",
       "23352         Halsted St & 78th St          20233        member   \n",
       "142427   Franklin St & Illinois St            RN-        member   \n",
       "\n",
       "           ride_length start_date day_name  year  month  \n",
       "66162  0 days 00:29:56 2021-11-01   Monday  2021     11  \n",
       "81735  0 days 00:03:52 2021-11-01   Monday  2021     11  \n",
       "184197 0 days 00:08:08 2021-11-01   Monday  2021     11  \n",
       "23352  0 days 00:14:03 2021-11-01   Monday  2021     11  \n",
       "142427 0 days 00:08:41 2021-11-01   Monday  2021     11  "
      ]
     },
     "execution_count": 31,
     "metadata": {},
     "output_type": "execute_result"
    }
   ],
   "source": [
    "Cyclistic_data.head()"
   ]
  },
  {
   "cell_type": "code",
   "execution_count": 28,
   "id": "9256d0ff",
   "metadata": {},
   "outputs": [
    {
     "data": {
      "text/plain": [
       "ride_id               0\n",
       "rideable_type         0\n",
       "started_at            0\n",
       "ended_at              0\n",
       "start_station_name    0\n",
       "start_station_id      0\n",
       "end_station_name      0\n",
       "end_station_id        0\n",
       "member_casual         0\n",
       "ride_length           0\n",
       "start_date            0\n",
       "day_name              0\n",
       "year                  0\n",
       "month                 0\n",
       "dtype: int64"
      ]
     },
     "execution_count": 28,
     "metadata": {},
     "output_type": "execute_result"
    }
   ],
   "source": [
    "# check for null values in the dataset\n",
    "Cyclistic_data.isnull().sum()"
   ]
  },
  {
   "cell_type": "markdown",
   "id": "f7049c00",
   "metadata": {},
   "source": [
    "## Analyze:"
   ]
  },
  {
   "cell_type": "code",
   "execution_count": 32,
   "id": "aff27f4d",
   "metadata": {},
   "outputs": [],
   "source": [
    "# changing the 'started_at' and 'ended_at' dtype to datetime\n",
    "Cyclistic_data['started_at']= pd.to_datetime(Cyclistic_data.started_at)\n",
    "Cyclistic_data['ended_at']= pd.to_datetime(Cyclistic_data.ended_at)"
   ]
  },
  {
   "cell_type": "code",
   "execution_count": 33,
   "id": "e861e3f1",
   "metadata": {},
   "outputs": [
    {
     "data": {
      "text/plain": [
       "66162    0 days 00:29:56\n",
       "81735    0 days 00:03:52\n",
       "184197   0 days 00:08:08\n",
       "23352    0 days 00:14:03\n",
       "142427   0 days 00:08:41\n",
       "               ...      \n",
       "226726   0 days 00:06:02\n",
       "549296   0 days 00:03:15\n",
       "108209   0 days 00:03:59\n",
       "231592   0 days 00:03:57\n",
       "312373   0 days 00:09:14\n",
       "Name: ride_length, Length: 4410438, dtype: timedelta64[ns]"
      ]
     },
     "execution_count": 33,
     "metadata": {},
     "output_type": "execute_result"
    }
   ],
   "source": [
    "# adding a new column 'ride_length' (ended_at - started_at) to calculate the time travelled\n",
    "\n",
    "Cyclistic_data['ride_length'] = Cyclistic_data['ended_at'] - Cyclistic_data['started_at']\n",
    "Cyclistic_data['ride_length']"
   ]
  },
  {
   "cell_type": "code",
   "execution_count": 34,
   "id": "f08c3deb",
   "metadata": {},
   "outputs": [
    {
     "name": "stdout",
     "output_type": "stream",
     "text": [
      "<class 'pandas.core.frame.DataFrame'>\n",
      "Int64Index: 4410438 entries, 66162 to 312373\n",
      "Data columns (total 14 columns):\n",
      " #   Column              Dtype          \n",
      "---  ------              -----          \n",
      " 0   ride_id             object         \n",
      " 1   rideable_type       category       \n",
      " 2   started_at          datetime64[ns] \n",
      " 3   ended_at            datetime64[ns] \n",
      " 4   start_station_name  object         \n",
      " 5   start_station_id    object         \n",
      " 6   end_station_name    object         \n",
      " 7   end_station_id      object         \n",
      " 8   member_casual       category       \n",
      " 9   ride_length         timedelta64[ns]\n",
      " 10  start_date          datetime64[ns] \n",
      " 11  day_name            category       \n",
      " 12  year                int64          \n",
      " 13  month               int64          \n",
      "dtypes: category(3), datetime64[ns](3), int64(2), object(5), timedelta64[ns](1)\n",
      "memory usage: 416.4+ MB\n"
     ]
    }
   ],
   "source": [
    "Cyclistic_data.info()"
   ]
  },
  {
   "cell_type": "code",
   "execution_count": 35,
   "id": "69c9c61e",
   "metadata": {},
   "outputs": [
    {
     "data": {
      "text/plain": [
       "66162     2021-11-01\n",
       "81735     2021-11-01\n",
       "184197    2021-11-01\n",
       "23352     2021-11-01\n",
       "142427    2021-11-01\n",
       "Name: start_date, dtype: object"
      ]
     },
     "execution_count": 35,
     "metadata": {},
     "output_type": "execute_result"
    }
   ],
   "source": [
    "# splitting and extracting the date from the 'started_at' column\n",
    "Cyclistic_data['start_date'] = Cyclistic_data.started_at.dt.date\n",
    "Cyclistic_data.start_date.head()"
   ]
  },
  {
   "cell_type": "code",
   "execution_count": 36,
   "id": "5f94a5f2",
   "metadata": {},
   "outputs": [
    {
     "data": {
      "text/plain": [
       "ride_id                        object\n",
       "rideable_type                category\n",
       "started_at             datetime64[ns]\n",
       "ended_at               datetime64[ns]\n",
       "start_station_name             object\n",
       "start_station_id               object\n",
       "end_station_name               object\n",
       "end_station_id                 object\n",
       "member_casual                category\n",
       "ride_length           timedelta64[ns]\n",
       "start_date             datetime64[ns]\n",
       "day_name                     category\n",
       "year                            int64\n",
       "month                           int64\n",
       "dtype: object"
      ]
     },
     "execution_count": 36,
     "metadata": {},
     "output_type": "execute_result"
    }
   ],
   "source": [
    "# converting 'start_date' into a datetime dtype\n",
    "Cyclistic_data['start_date']= pd.to_datetime(Cyclistic_data.start_date)\n",
    "Cyclistic_data.dtypes"
   ]
  },
  {
   "cell_type": "code",
   "execution_count": 37,
   "id": "37b9c166",
   "metadata": {},
   "outputs": [
    {
     "data": {
      "text/plain": [
       "array(['Monday', 'Tuesday', 'Wednesday', 'Thursday', 'Friday', 'Saturday',\n",
       "       'Sunday'], dtype=object)"
      ]
     },
     "execution_count": 37,
     "metadata": {},
     "output_type": "execute_result"
    }
   ],
   "source": [
    "# adding a column 'day_name' to find the weekday of the date \n",
    "Cyclistic_data['day_name'] = Cyclistic_data['start_date'].dt.day_name()\n",
    "Cyclistic_data['day_name'].unique()"
   ]
  },
  {
   "cell_type": "code",
   "execution_count": 38,
   "id": "0b35104d",
   "metadata": {},
   "outputs": [
    {
     "name": "stdout",
     "output_type": "stream",
     "text": [
      "<class 'pandas.core.frame.DataFrame'>\n",
      "Int64Index: 4410438 entries, 66162 to 312373\n",
      "Data columns (total 14 columns):\n",
      " #   Column              Dtype          \n",
      "---  ------              -----          \n",
      " 0   ride_id             object         \n",
      " 1   rideable_type       category       \n",
      " 2   started_at          datetime64[ns] \n",
      " 3   ended_at            datetime64[ns] \n",
      " 4   start_station_name  object         \n",
      " 5   start_station_id    object         \n",
      " 6   end_station_name    object         \n",
      " 7   end_station_id      object         \n",
      " 8   member_casual       category       \n",
      " 9   ride_length         timedelta64[ns]\n",
      " 10  start_date          datetime64[ns] \n",
      " 11  day_name            category       \n",
      " 12  year                int64          \n",
      " 13  month               int64          \n",
      "dtypes: category(3), datetime64[ns](3), int64(2), object(5), timedelta64[ns](1)\n",
      "memory usage: 416.4+ MB\n"
     ]
    }
   ],
   "source": [
    "# changing day_name to  categorical dtype\n",
    "Cyclistic_data['day_name']= Cyclistic_data.day_name.astype('category')\n",
    "Cyclistic_data.info()"
   ]
  },
  {
   "cell_type": "code",
   "execution_count": 39,
   "id": "52bc8c4e",
   "metadata": {},
   "outputs": [],
   "source": [
    "# adding a column 'year'\n",
    "Cyclistic_data['year'] = pd.DatetimeIndex(Cyclistic_data['start_date']).year\n",
    "# adding a column 'month'\n",
    "Cyclistic_data['month'] = pd.DatetimeIndex(Cyclistic_data['start_date']).month"
   ]
  },
  {
   "cell_type": "code",
   "execution_count": 40,
   "id": "58820832",
   "metadata": {},
   "outputs": [
    {
     "name": "stdout",
     "output_type": "stream",
     "text": [
      "<class 'pandas.core.frame.DataFrame'>\n",
      "Int64Index: 4410438 entries, 66162 to 312373\n",
      "Data columns (total 14 columns):\n",
      " #   Column              Dtype          \n",
      "---  ------              -----          \n",
      " 0   ride_id             object         \n",
      " 1   rideable_type       category       \n",
      " 2   started_at          datetime64[ns] \n",
      " 3   ended_at            datetime64[ns] \n",
      " 4   start_station_name  object         \n",
      " 5   start_station_id    object         \n",
      " 6   end_station_name    object         \n",
      " 7   end_station_id      object         \n",
      " 8   member_casual       category       \n",
      " 9   ride_length         timedelta64[ns]\n",
      " 10  start_date          datetime64[ns] \n",
      " 11  day_name            category       \n",
      " 12  year                int64          \n",
      " 13  month               int64          \n",
      "dtypes: category(3), datetime64[ns](3), int64(2), object(5), timedelta64[ns](1)\n",
      "memory usage: 416.4+ MB\n"
     ]
    }
   ],
   "source": [
    "Cyclistic_data.info()"
   ]
  },
  {
   "cell_type": "code",
   "execution_count": 41,
   "id": "57e86b36",
   "metadata": {},
   "outputs": [
    {
     "data": {
      "text/html": [
       "<div>\n",
       "<style scoped>\n",
       "    .dataframe tbody tr th:only-of-type {\n",
       "        vertical-align: middle;\n",
       "    }\n",
       "\n",
       "    .dataframe tbody tr th {\n",
       "        vertical-align: top;\n",
       "    }\n",
       "\n",
       "    .dataframe thead th {\n",
       "        text-align: right;\n",
       "    }\n",
       "</style>\n",
       "<table border=\"1\" class=\"dataframe\">\n",
       "  <thead>\n",
       "    <tr style=\"text-align: right;\">\n",
       "      <th></th>\n",
       "      <th>ride_id</th>\n",
       "      <th>rideable_type</th>\n",
       "      <th>started_at</th>\n",
       "      <th>ended_at</th>\n",
       "      <th>start_station_name</th>\n",
       "      <th>start_station_id</th>\n",
       "      <th>end_station_name</th>\n",
       "      <th>end_station_id</th>\n",
       "      <th>member_casual</th>\n",
       "      <th>ride_length</th>\n",
       "      <th>start_date</th>\n",
       "      <th>day_name</th>\n",
       "      <th>year</th>\n",
       "      <th>month</th>\n",
       "    </tr>\n",
       "  </thead>\n",
       "  <tbody>\n",
       "    <tr>\n",
       "      <th>66162</th>\n",
       "      <td>6BB9F79FB5BFFA0C</td>\n",
       "      <td>electric_bike</td>\n",
       "      <td>2021-11-01 00:00:14</td>\n",
       "      <td>2021-11-01 00:30:10</td>\n",
       "      <td>Green St &amp; Madison St</td>\n",
       "      <td>TA1307000120</td>\n",
       "      <td>Kosciuszko Park</td>\n",
       "      <td>15643</td>\n",
       "      <td>casual</td>\n",
       "      <td>0 days 00:29:56</td>\n",
       "      <td>2021-11-01</td>\n",
       "      <td>Monday</td>\n",
       "      <td>2021</td>\n",
       "      <td>11</td>\n",
       "    </tr>\n",
       "    <tr>\n",
       "      <th>81735</th>\n",
       "      <td>9B28379EC39C521C</td>\n",
       "      <td>electric_bike</td>\n",
       "      <td>2021-11-01 00:00:14</td>\n",
       "      <td>2021-11-01 00:04:06</td>\n",
       "      <td>Halsted St &amp; Roscoe St</td>\n",
       "      <td>TA1309000025</td>\n",
       "      <td>Clarendon Ave &amp; Gordon Ter</td>\n",
       "      <td>13379</td>\n",
       "      <td>casual</td>\n",
       "      <td>0 days 00:03:52</td>\n",
       "      <td>2021-11-01</td>\n",
       "      <td>Monday</td>\n",
       "      <td>2021</td>\n",
       "      <td>11</td>\n",
       "    </tr>\n",
       "    <tr>\n",
       "      <th>184197</th>\n",
       "      <td>7705C605D750A621</td>\n",
       "      <td>electric_bike</td>\n",
       "      <td>2021-11-01 00:01:36</td>\n",
       "      <td>2021-11-01 00:09:44</td>\n",
       "      <td>Michigan Ave &amp; Pearson St</td>\n",
       "      <td>13034</td>\n",
       "      <td>Canal St &amp; Monroe St</td>\n",
       "      <td>13056</td>\n",
       "      <td>casual</td>\n",
       "      <td>0 days 00:08:08</td>\n",
       "      <td>2021-11-01</td>\n",
       "      <td>Monday</td>\n",
       "      <td>2021</td>\n",
       "      <td>11</td>\n",
       "    </tr>\n",
       "    <tr>\n",
       "      <th>23352</th>\n",
       "      <td>D1785C29432887EE</td>\n",
       "      <td>classic_bike</td>\n",
       "      <td>2021-11-01 00:02:35</td>\n",
       "      <td>2021-11-01 00:16:38</td>\n",
       "      <td>State St &amp; 79th St</td>\n",
       "      <td>573</td>\n",
       "      <td>Halsted St &amp; 78th St</td>\n",
       "      <td>20233</td>\n",
       "      <td>member</td>\n",
       "      <td>0 days 00:14:03</td>\n",
       "      <td>2021-11-01</td>\n",
       "      <td>Monday</td>\n",
       "      <td>2021</td>\n",
       "      <td>11</td>\n",
       "    </tr>\n",
       "    <tr>\n",
       "      <th>142427</th>\n",
       "      <td>17247CF119C77514</td>\n",
       "      <td>classic_bike</td>\n",
       "      <td>2021-11-01 00:02:36</td>\n",
       "      <td>2021-11-01 00:11:17</td>\n",
       "      <td>Green St &amp; Randolph St</td>\n",
       "      <td>13053</td>\n",
       "      <td>Franklin St &amp; Illinois St</td>\n",
       "      <td>RN-</td>\n",
       "      <td>member</td>\n",
       "      <td>0 days 00:08:41</td>\n",
       "      <td>2021-11-01</td>\n",
       "      <td>Monday</td>\n",
       "      <td>2021</td>\n",
       "      <td>11</td>\n",
       "    </tr>\n",
       "  </tbody>\n",
       "</table>\n",
       "</div>"
      ],
      "text/plain": [
       "                 ride_id  rideable_type          started_at  \\\n",
       "66162   6BB9F79FB5BFFA0C  electric_bike 2021-11-01 00:00:14   \n",
       "81735   9B28379EC39C521C  electric_bike 2021-11-01 00:00:14   \n",
       "184197  7705C605D750A621  electric_bike 2021-11-01 00:01:36   \n",
       "23352   D1785C29432887EE   classic_bike 2021-11-01 00:02:35   \n",
       "142427  17247CF119C77514   classic_bike 2021-11-01 00:02:36   \n",
       "\n",
       "                  ended_at         start_station_name start_station_id  \\\n",
       "66162  2021-11-01 00:30:10      Green St & Madison St     TA1307000120   \n",
       "81735  2021-11-01 00:04:06     Halsted St & Roscoe St     TA1309000025   \n",
       "184197 2021-11-01 00:09:44  Michigan Ave & Pearson St            13034   \n",
       "23352  2021-11-01 00:16:38         State St & 79th St              573   \n",
       "142427 2021-11-01 00:11:17     Green St & Randolph St            13053   \n",
       "\n",
       "                  end_station_name end_station_id member_casual  \\\n",
       "66162              Kosciuszko Park          15643        casual   \n",
       "81735   Clarendon Ave & Gordon Ter          13379        casual   \n",
       "184197        Canal St & Monroe St          13056        casual   \n",
       "23352         Halsted St & 78th St          20233        member   \n",
       "142427   Franklin St & Illinois St            RN-        member   \n",
       "\n",
       "           ride_length start_date day_name  year  month  \n",
       "66162  0 days 00:29:56 2021-11-01   Monday  2021     11  \n",
       "81735  0 days 00:03:52 2021-11-01   Monday  2021     11  \n",
       "184197 0 days 00:08:08 2021-11-01   Monday  2021     11  \n",
       "23352  0 days 00:14:03 2021-11-01   Monday  2021     11  \n",
       "142427 0 days 00:08:41 2021-11-01   Monday  2021     11  "
      ]
     },
     "execution_count": 41,
     "metadata": {},
     "output_type": "execute_result"
    }
   ],
   "source": [
    "Cyclistic_data.head()"
   ]
  },
  {
   "cell_type": "code",
   "execution_count": 42,
   "id": "bb2de0fd",
   "metadata": {},
   "outputs": [],
   "source": [
    "# sort the dataframe by ascending order using start date\n",
    "Cyclistic_data.sort_values(by=['started_at'], inplace= True, ascending= True)"
   ]
  },
  {
   "cell_type": "code",
   "execution_count": 55,
   "id": "f02cf43e",
   "metadata": {},
   "outputs": [
    {
     "data": {
      "text/plain": [
       "count                      4409893\n",
       "mean     0 days 00:17:14.552872371\n",
       "std      0 days 00:57:15.608389974\n",
       "min                0 days 00:00:00\n",
       "25%                0 days 00:06:05\n",
       "50%                0 days 00:10:40\n",
       "75%                0 days 00:19:07\n",
       "max               23 days 20:34:04\n",
       "Name: ride_length, dtype: object"
      ]
     },
     "execution_count": 55,
     "metadata": {},
     "output_type": "execute_result"
    }
   ],
   "source": [
    "# calculate the mean of ride length\n",
    "Cyclistic_data.ride_length.describe(datetime_is_numeric=True)\n"
   ]
  },
  {
   "cell_type": "code",
   "execution_count": 44,
   "id": "f9378997",
   "metadata": {},
   "outputs": [
    {
     "data": {
      "text/plain": [
       "ride_id               74\n",
       "rideable_type         74\n",
       "started_at            74\n",
       "ended_at              74\n",
       "start_station_name    74\n",
       "start_station_id      74\n",
       "end_station_name      74\n",
       "end_station_id        74\n",
       "member_casual         74\n",
       "ride_length           74\n",
       "start_date            74\n",
       "day_name              74\n",
       "year                  74\n",
       "month                 74\n",
       "dtype: int64"
      ]
     },
     "execution_count": 44,
     "metadata": {},
     "output_type": "execute_result"
    }
   ],
   "source": [
    "# filtering the negative values\n",
    "negative_duration = Cyclistic_data['ride_length'] < '00:00:00'\n",
    "# showing the number of negative time duration\n",
    "Cyclistic_data[negative_duration].count()"
   ]
  },
  {
   "cell_type": "code",
   "execution_count": 45,
   "id": "6a94a875",
   "metadata": {},
   "outputs": [],
   "source": [
    "# removing the negative duration\n",
    "Cyclistic_data.drop(Cyclistic_data[negative_duration].index, inplace=True)"
   ]
  },
  {
   "cell_type": "code",
   "execution_count": 46,
   "id": "40e1c177",
   "metadata": {},
   "outputs": [
    {
     "data": {
      "text/plain": [
       "count                      2641921\n",
       "mean     0 days 00:12:27.231374064\n",
       "std      0 days 00:18:42.441900831\n",
       "min                0 days 00:00:00\n",
       "25%                0 days 00:05:16\n",
       "50%                0 days 00:09:00\n",
       "75%                0 days 00:15:23\n",
       "max                1 days 00:52:55\n",
       "Name: ride_length, dtype: object"
      ]
     },
     "execution_count": 46,
     "metadata": {},
     "output_type": "execute_result"
    }
   ],
   "source": [
    "# filtering the ride length for members\n",
    "member_filter = Cyclistic_data['member_casual'] == 'member'\n",
    "Cyclistic_data[member_filter].ride_length.describe()"
   ]
  },
  {
   "cell_type": "code",
   "execution_count": 47,
   "id": "474350a6",
   "metadata": {},
   "outputs": [
    {
     "data": {
      "text/plain": [
       "count                      1767972\n",
       "mean     0 days 00:24:23.903959451\n",
       "std      0 days 01:27:00.263129742\n",
       "min                0 days 00:00:00\n",
       "25%                0 days 00:08:00\n",
       "50%                0 days 00:14:01\n",
       "75%                0 days 00:26:04\n",
       "max               23 days 20:34:04\n",
       "Name: ride_length, dtype: object"
      ]
     },
     "execution_count": 47,
     "metadata": {},
     "output_type": "execute_result"
    }
   ],
   "source": [
    "# filtering the ride length for casual riders\n",
    "Cyclistic_data[~member_filter].ride_length.describe()"
   ]
  },
  {
   "cell_type": "code",
   "execution_count": 48,
   "id": "eafeb906",
   "metadata": {},
   "outputs": [
    {
     "data": {
      "text/plain": [
       "0    Saturday\n",
       "Name: day_name, dtype: category\n",
       "Categories (7, object): ['Friday', 'Monday', 'Saturday', 'Sunday', 'Thursday', 'Tuesday', 'Wednesday']"
      ]
     },
     "execution_count": 48,
     "metadata": {},
     "output_type": "execute_result"
    }
   ],
   "source": [
    "# calculate the mode of week-day of all users \n",
    "mode_week_day = Cyclistic_data['day_name'].mode()\n",
    "mode_week_day"
   ]
  },
  {
   "cell_type": "code",
   "execution_count": 49,
   "id": "b74fe022",
   "metadata": {},
   "outputs": [
    {
     "data": {
      "text/plain": [
       "0    Wednesday\n",
       "Name: day_name, dtype: category\n",
       "Categories (7, object): ['Friday', 'Monday', 'Saturday', 'Sunday', 'Thursday', 'Tuesday', 'Wednesday']"
      ]
     },
     "execution_count": 49,
     "metadata": {},
     "output_type": "execute_result"
    }
   ],
   "source": [
    "# calculte the mode of week-day for members\n",
    "mode_week_day_member = Cyclistic_data[Cyclistic_data['member_casual'] == 'member']\n",
    "mode_week_day_member = mode_week_day_member['day_name'].mode()\n",
    "mode_week_day_member"
   ]
  },
  {
   "cell_type": "code",
   "execution_count": 50,
   "id": "a5d28752",
   "metadata": {},
   "outputs": [
    {
     "data": {
      "text/plain": [
       "0    Saturday\n",
       "Name: day_name, dtype: category\n",
       "Categories (7, object): ['Friday', 'Monday', 'Saturday', 'Sunday', 'Thursday', 'Tuesday', 'Wednesday']"
      ]
     },
     "execution_count": 50,
     "metadata": {},
     "output_type": "execute_result"
    }
   ],
   "source": [
    "# calculate the mode of the week-day of casual riders\n",
    "mode_week_day_casual = Cyclistic_data[Cyclistic_data['member_casual'] == 'casual']\n",
    "mode_week_day_casual = mode_week_day_casual['day_name'].mode()\n",
    "mode_week_day_casual"
   ]
  },
  {
   "cell_type": "code",
   "execution_count": 51,
   "id": "a361c607",
   "metadata": {},
   "outputs": [
    {
     "data": {
      "text/plain": [
       "day_name\n",
       "Friday       614717\n",
       "Monday       600135\n",
       "Saturday     720834\n",
       "Sunday       609023\n",
       "Thursday     639173\n",
       "Tuesday      608497\n",
       "Wednesday    617514\n",
       "Name: ride_id, dtype: int64"
      ]
     },
     "execution_count": 51,
     "metadata": {},
     "output_type": "execute_result"
    }
   ],
   "source": [
    "# calculate the no. of rides by users in a week by adding Count of ride_id to values\n",
    "count_users = Cyclistic_data.groupby('day_name')['ride_id'].count()\n",
    "count_users = count_users.sort_index()\n",
    "count_users"
   ]
  },
  {
   "cell_type": "code",
   "execution_count": 63,
   "id": "d937a5cf",
   "metadata": {},
   "outputs": [],
   "source": [
    "# Export findings to excel\n",
    "\n",
    "cm = pd.DataFrame(count_users)\n",
    "\n",
    "cm.to_excel(r'C:\\Users\\Adel Tarek\\Python Maven\\users_rides.xlsx')"
   ]
  },
  {
   "cell_type": "code",
   "execution_count": 58,
   "id": "b35c0718",
   "metadata": {},
   "outputs": [
    {
     "data": {
      "text/plain": [
       "day_name\n",
       "Friday       365041\n",
       "Monday       385882\n",
       "Saturday     345725\n",
       "Sunday       302975\n",
       "Thursday     413418\n",
       "Tuesday      413587\n",
       "Wednesday    415293\n",
       "Name: ride_id, dtype: int64"
      ]
     },
     "execution_count": 58,
     "metadata": {},
     "output_type": "execute_result"
    }
   ],
   "source": [
    "# calculate the no. of rides by members in a week\n",
    "count_members = Cyclistic_data[Cyclistic_data['member_casual'] == 'member'].groupby('day_name')['ride_id'].count()\n",
    "count_members\n"
   ]
  },
  {
   "cell_type": "code",
   "execution_count": 60,
   "id": "f251a5c7",
   "metadata": {},
   "outputs": [],
   "source": [
    "# Export findings to excel\n",
    "\n",
    "cm = pd.DataFrame(count_members)\n",
    "\n",
    "cm.to_excel(r'C:\\Users\\Adel Tarek\\Python Maven\\member_rides.xlsx')"
   ]
  },
  {
   "cell_type": "code",
   "execution_count": 53,
   "id": "558c6baa",
   "metadata": {},
   "outputs": [
    {
     "data": {
      "text/plain": [
       "day_name\n",
       "Friday       249676\n",
       "Monday       214253\n",
       "Saturday     375109\n",
       "Sunday       306048\n",
       "Thursday     225755\n",
       "Tuesday      194910\n",
       "Wednesday    202221\n",
       "Name: ride_id, dtype: int64"
      ]
     },
     "execution_count": 53,
     "metadata": {},
     "output_type": "execute_result"
    }
   ],
   "source": [
    "# calculate the no. of rides by casual riders in a week\n",
    "count_casual = Cyclistic_data[Cyclistic_data['member_casual'] == 'casual'].groupby('day_name')['ride_id'].count()\n",
    "count_casual"
   ]
  },
  {
   "cell_type": "code",
   "execution_count": 62,
   "id": "c9904044",
   "metadata": {},
   "outputs": [],
   "source": [
    "# Export findings to excel\n",
    "\n",
    "cc = pd.DataFrame(count_casual)\n",
    "\n",
    "cc.to_excel(r'C:\\Users\\Adel Tarek\\Python Maven\\casual_rides.xlsx')"
   ]
  },
  {
   "cell_type": "code",
   "execution_count": 64,
   "id": "1ac93546",
   "metadata": {},
   "outputs": [
    {
     "data": {
      "text/plain": [
       "day_name\n",
       "Friday      0 days 00:16:27.758983402\n",
       "Monday      0 days 00:16:44.931760353\n",
       "Saturday    0 days 00:20:45.383192246\n",
       "Sunday      0 days 00:20:47.319027360\n",
       "Thursday    0 days 00:15:30.134281329\n",
       "Tuesday     0 days 00:15:00.449169018\n",
       "Wednesday   0 days 00:14:54.202638320\n",
       "Name: ride_length, dtype: timedelta64[ns]"
      ]
     },
     "execution_count": 64,
     "metadata": {},
     "output_type": "execute_result"
    }
   ],
   "source": [
    "# calculate the average ride length for all users in a week\n",
    "user_avg_rides = Cyclistic_data.groupby('day_name')['ride_length'].mean(numeric_only=False)\n",
    "user_avg_rides"
   ]
  },
  {
   "cell_type": "code",
   "execution_count": 65,
   "id": "9aa2ea88",
   "metadata": {},
   "outputs": [],
   "source": [
    "# Export findings to excel\n",
    "\n",
    "uar = pd.DataFrame(user_avg_rides)\n",
    "\n",
    "uar.to_excel(r'C:\\Users\\Adel Tarek\\Python Maven\\user_avg_rides.xlsx')"
   ]
  },
  {
   "cell_type": "code",
   "execution_count": 66,
   "id": "6adddf11",
   "metadata": {},
   "outputs": [
    {
     "data": {
      "text/plain": [
       "day_name\n",
       "Friday      0 days 00:12:12.658150728\n",
       "Monday      0 days 00:12:00.809586868\n",
       "Saturday    0 days 00:14:01.774815243\n",
       "Sunday      0 days 00:13:52.250627939\n",
       "Thursday    0 days 00:12:00.933986909\n",
       "Tuesday     0 days 00:11:46.910231704\n",
       "Wednesday   0 days 00:11:50.194607180\n",
       "Name: ride_length, dtype: timedelta64[ns]"
      ]
     },
     "execution_count": 66,
     "metadata": {},
     "output_type": "execute_result"
    }
   ],
   "source": [
    "# calculate the average ride length for members in a week\n",
    "user_avg_members = Cyclistic_data[Cyclistic_data['member_casual'] == 'member'].groupby('day_name')['ride_length'].mean(numeric_only=False)\n",
    "user_avg_members"
   ]
  },
  {
   "cell_type": "code",
   "execution_count": 76,
   "id": "e0088581",
   "metadata": {},
   "outputs": [],
   "source": [
    "# Export findings to excel\n",
    "\n",
    "uam = pd.DataFrame(user_avg_members)\n",
    "\n",
    "uam.to_excel(r'C:\\Users\\Adel Tarek\\Python Maven\\user_avg_members.xlsx')"
   ]
  },
  {
   "cell_type": "code",
   "execution_count": 74,
   "id": "99767ca0",
   "metadata": {},
   "outputs": [
    {
     "data": {
      "text/plain": [
       "day_name\n",
       "Friday      0 days 00:22:40.731407904\n",
       "Monday      0 days 00:25:16.652168231\n",
       "Saturday    0 days 00:26:57.375082975\n",
       "Sunday      0 days 00:27:38.219762913\n",
       "Thursday    0 days 00:21:53.236171956\n",
       "Tuesday     0 days 00:21:51.126858550\n",
       "Wednesday   0 days 00:21:12.092408800\n",
       "Name: ride_length, dtype: timedelta64[ns]"
      ]
     },
     "execution_count": 74,
     "metadata": {},
     "output_type": "execute_result"
    }
   ],
   "source": [
    "# calculate the average ride length for casual_riders in a week\n",
    "user_avg_casual = Cyclistic_data[Cyclistic_data['member_casual'] == 'casual'].groupby('day_name')['ride_length'].mean(numeric_only=False)\n",
    "user_avg_casual"
   ]
  },
  {
   "cell_type": "code",
   "execution_count": 77,
   "id": "8853e7a6",
   "metadata": {},
   "outputs": [],
   "source": [
    "# Export findings to excel\n",
    "\n",
    "uac = pd.DataFrame(user_avg_casual)\n",
    "\n",
    "uac.to_excel(r'C:\\Users\\Adel Tarek\\Python Maven\\user_avg_casual.xlsx')"
   ]
  },
  {
   "cell_type": "code",
   "execution_count": 69,
   "id": "c056a784",
   "metadata": {},
   "outputs": [
    {
     "data": {
      "text/plain": [
       "end_station_name\n",
       "10101 S Stony Island Ave               4\n",
       "111th St - Morgan Park Metra           5\n",
       "2112 W Peterson Ave                  934\n",
       "532 E 43rd St                         14\n",
       "63rd & Western Ave - north corner     11\n",
       "                                    ... \n",
       "Yale Ave & 119th St                    1\n",
       "Yates Blvd & 75th St                 258\n",
       "Yates Blvd & 93rd St                  64\n",
       "Yates Blvd & Exchange Ave              7\n",
       "Zapata Academy                         1\n",
       "Name: ride_id, Length: 1573, dtype: int64"
      ]
     },
     "execution_count": 69,
     "metadata": {},
     "output_type": "execute_result"
    }
   ],
   "source": [
    "# calculate the no. of rides by station by adding Count of ride_id to values\n",
    "station_rides = Cyclistic_data.groupby('end_station_name')['ride_id'].count()\n",
    "station_rides = station_rides.sort_index()\n",
    "station_rides"
   ]
  },
  {
   "cell_type": "code",
   "execution_count": 70,
   "id": "69b39682",
   "metadata": {},
   "outputs": [],
   "source": [
    "# Export findings to excel\n",
    "\n",
    "sr = pd.DataFrame(station_rides)\n",
    "\n",
    "sr.to_excel(r'C:\\Users\\Adel Tarek\\Python Maven\\station_rides.xlsx')"
   ]
  },
  {
   "cell_type": "code",
   "execution_count": 71,
   "id": "eaa5600c",
   "metadata": {},
   "outputs": [
    {
     "data": {
      "text/plain": [
       "start_station_name\n",
       "10101 S Stony Island Ave               1\n",
       "111th St - Morgan Park Metra           7\n",
       "2112 W Peterson Ave                  804\n",
       "532 E 43rd St                         17\n",
       "63rd & Western Ave - north corner      5\n",
       "                                    ... \n",
       "Yale Ave & 119th St                    1\n",
       "Yates Blvd & 75th St                 233\n",
       "Yates Blvd & 93rd St                  78\n",
       "Yates Blvd & Exchange Ave              5\n",
       "Zapata Academy                         2\n",
       "Name: ride_id, Length: 1521, dtype: int64"
      ]
     },
     "execution_count": 71,
     "metadata": {},
     "output_type": "execute_result"
    }
   ],
   "source": [
    "# calculate the no. of rides by station by adding Count of ride_id to values\n",
    "station_start = Cyclistic_data.groupby('start_station_name')['ride_id'].count()\n",
    "station_start = station_start.sort_index()\n",
    "station_start"
   ]
  },
  {
   "cell_type": "code",
   "execution_count": 72,
   "id": "d648f2bf",
   "metadata": {},
   "outputs": [],
   "source": [
    "# Export findings to excel\n",
    "\n",
    "ss = pd.DataFrame(station_start)\n",
    "\n",
    "ss.to_excel(r'C:\\Users\\Adel Tarek\\Python Maven\\station_start.xlsx')"
   ]
  },
  {
   "cell_type": "code",
   "execution_count": 78,
   "id": "8bff4d18",
   "metadata": {},
   "outputs": [
    {
     "data": {
      "text/plain": [
       "member    2641921\n",
       "casual    1767972\n",
       "Name: member_casual, dtype: int64"
      ]
     },
     "execution_count": 78,
     "metadata": {},
     "output_type": "execute_result"
    }
   ],
   "source": [
    "# check the number of users in each type over the past 12 months\n",
    "no__of_user_types = Cyclistic_data['member_casual'].value_counts()\n",
    "no__of_user_types"
   ]
  },
  {
   "cell_type": "code",
   "execution_count": 79,
   "id": "2357c37a",
   "metadata": {},
   "outputs": [
    {
     "data": {
      "text/plain": [
       "member_casual               \n",
       "casual         classic_bike      894514\n",
       "               electric_bike     693852\n",
       "               docked_bike       179606\n",
       "member         classic_bike     1738774\n",
       "               electric_bike     903147\n",
       "               docked_bike            0\n",
       "Name: rideable_type, dtype: int64"
      ]
     },
     "execution_count": 79,
     "metadata": {},
     "output_type": "execute_result"
    }
   ],
   "source": [
    "# To check the amount of users for a particular ride_type\n",
    "ride_type = Cyclistic_data.groupby('member_casual')['rideable_type'].value_counts()\n",
    "ride_type"
   ]
  },
  {
   "cell_type": "code",
   "execution_count": 80,
   "id": "813dfd78",
   "metadata": {},
   "outputs": [
    {
     "data": {
      "text/plain": [
       "year        \n",
       "2021  member     317171\n",
       "      casual     115019\n",
       "2022  member    2324750\n",
       "      casual    1652953\n",
       "Name: member_casual, dtype: int64"
      ]
     },
     "execution_count": 80,
     "metadata": {},
     "output_type": "execute_result"
    }
   ],
   "source": [
    "#to seggregate the number of users into members and casual over year\n",
    "users_over_year = Cyclistic_data.groupby('year')['member_casual'].value_counts()\n",
    "users_over_year "
   ]
  },
  {
   "cell_type": "code",
   "execution_count": 81,
   "id": "46b566cf",
   "metadata": {},
   "outputs": [
    {
     "data": {
      "text/plain": [
       "month        \n",
       "1      member     67505\n",
       "       casual     12603\n",
       "2      member     74020\n",
       "       casual     15141\n",
       "3      member    148801\n",
       "       casual     67141\n",
       "4      member    180637\n",
       "       casual     91883\n",
       "5      member    282258\n",
       "       casual    220225\n",
       "6      member    328247\n",
       "       casual    292036\n",
       "7      member    330976\n",
       "       casual    311649\n",
       "8      member    335200\n",
       "       casual    270067\n",
       "9      member    314195\n",
       "       casual    220899\n",
       "10     member    262911\n",
       "       casual    151309\n",
       "11     member    185901\n",
       "       casual     69952\n",
       "12     member    131270\n",
       "       casual     45067\n",
       "Name: member_casual, dtype: int64"
      ]
     },
     "execution_count": 81,
     "metadata": {},
     "output_type": "execute_result"
    }
   ],
   "source": [
    "# to get the total amount of users in each category per month\n",
    "users_over_month = Cyclistic_data.groupby('month')['member_casual'].value_counts()\n",
    "users_over_month"
   ]
  },
  {
   "cell_type": "code",
   "execution_count": 83,
   "id": "9c6683d9",
   "metadata": {},
   "outputs": [],
   "source": [
    "# Export findings to excel\n",
    "\n",
    "uom = pd.DataFrame(users_over_month)\n",
    "\n",
    "uom.to_excel(r'C:\\Users\\Adel Tarek\\Python Maven\\uom.xlsx')"
   ]
  },
  {
   "cell_type": "code",
   "execution_count": null,
   "id": "bfb5bf95",
   "metadata": {},
   "outputs": [],
   "source": []
  }
 ],
 "metadata": {
  "kernelspec": {
   "display_name": "Python 3 (ipykernel)",
   "language": "python",
   "name": "python3"
  },
  "language_info": {
   "codemirror_mode": {
    "name": "ipython",
    "version": 3
   },
   "file_extension": ".py",
   "mimetype": "text/x-python",
   "name": "python",
   "nbconvert_exporter": "python",
   "pygments_lexer": "ipython3",
   "version": "3.9.13"
  }
 },
 "nbformat": 4,
 "nbformat_minor": 5
}
